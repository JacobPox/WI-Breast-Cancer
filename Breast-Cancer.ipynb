{
 "cells": [
  {
   "cell_type": "markdown",
   "metadata": {},
   "source": [
    "This dataset comes from https://www.kaggle.com/uciml/breast-cancer-wisconsin-data and is a classification problem on determining whether a tumor is benign or malignant in patients diagnosed with breast cancer.\n",
    "\n",
    "Although a common approach to this dataset would be to use a classifier model like gradient boosting or random forests, I think it'd be more fun to tackle this dataset with a neural network."
   ]
  },
  {
   "cell_type": "markdown",
   "metadata": {},
   "source": [
    "# Imports and Data"
   ]
  },
  {
   "cell_type": "code",
   "execution_count": 30,
   "metadata": {},
   "outputs": [],
   "source": [
    "import pandas as pd\n",
    "import numpy as np\n",
    "import matplotlib.pyplot as plt\n",
    "import seaborn as sns\n",
    "import warnings\n",
    "\n",
    "warnings.filterwarnings('ignore')\n",
    "%matplotlib inline"
   ]
  },
  {
   "cell_type": "code",
   "execution_count": 12,
   "metadata": {},
   "outputs": [],
   "source": [
    "data = pd.read_csv('data.csv')"
   ]
  },
  {
   "cell_type": "markdown",
   "metadata": {},
   "source": [
    "# View/Clean Data"
   ]
  },
  {
   "cell_type": "code",
   "execution_count": 13,
   "metadata": {},
   "outputs": [
    {
     "name": "stdout",
     "output_type": "stream",
     "text": [
      "         id diagnosis  radius_mean  texture_mean  perimeter_mean  area_mean  \\\n",
      "0    842302         M        17.99         10.38          122.80     1001.0   \n",
      "1    842517         M        20.57         17.77          132.90     1326.0   \n",
      "2  84300903         M        19.69         21.25          130.00     1203.0   \n",
      "3  84348301         M        11.42         20.38           77.58      386.1   \n",
      "4  84358402         M        20.29         14.34          135.10     1297.0   \n",
      "\n",
      "   smoothness_mean  compactness_mean  concavity_mean  concave points_mean  \\\n",
      "0          0.11840           0.27760          0.3001              0.14710   \n",
      "1          0.08474           0.07864          0.0869              0.07017   \n",
      "2          0.10960           0.15990          0.1974              0.12790   \n",
      "3          0.14250           0.28390          0.2414              0.10520   \n",
      "4          0.10030           0.13280          0.1980              0.10430   \n",
      "\n",
      "      ...       texture_worst  perimeter_worst  area_worst  smoothness_worst  \\\n",
      "0     ...               17.33           184.60      2019.0            0.1622   \n",
      "1     ...               23.41           158.80      1956.0            0.1238   \n",
      "2     ...               25.53           152.50      1709.0            0.1444   \n",
      "3     ...               26.50            98.87       567.7            0.2098   \n",
      "4     ...               16.67           152.20      1575.0            0.1374   \n",
      "\n",
      "   compactness_worst  concavity_worst  concave points_worst  symmetry_worst  \\\n",
      "0             0.6656           0.7119                0.2654          0.4601   \n",
      "1             0.1866           0.2416                0.1860          0.2750   \n",
      "2             0.4245           0.4504                0.2430          0.3613   \n",
      "3             0.8663           0.6869                0.2575          0.6638   \n",
      "4             0.2050           0.4000                0.1625          0.2364   \n",
      "\n",
      "   fractal_dimension_worst  Unnamed: 32  \n",
      "0                  0.11890          NaN  \n",
      "1                  0.08902          NaN  \n",
      "2                  0.08758          NaN  \n",
      "3                  0.17300          NaN  \n",
      "4                  0.07678          NaN  \n",
      "\n",
      "[5 rows x 33 columns]\n"
     ]
    }
   ],
   "source": [
    "# Quick look at examples\n",
    "print(data.head())"
   ]
  },
  {
   "cell_type": "markdown",
   "metadata": {},
   "source": [
    "The classification will be M (Malignant) or B (Benign). The information given is real values of the tumors inside the patients.\n",
    "\n",
    "I don't know what Unnamed: 32 means, so we'll just drop that column."
   ]
  },
  {
   "cell_type": "code",
   "execution_count": 14,
   "metadata": {},
   "outputs": [],
   "source": [
    "data.drop('Unnamed: 32', axis=1, inplace=True)"
   ]
  },
  {
   "cell_type": "markdown",
   "metadata": {},
   "source": [
    "Let's see how much of our data is benign compared to malignant."
   ]
  },
  {
   "cell_type": "code",
   "execution_count": 23,
   "metadata": {},
   "outputs": [
    {
     "data": {
      "text/plain": [
       "<matplotlib.axes._subplots.AxesSubplot at 0x20115661b38>"
      ]
     },
     "execution_count": 23,
     "metadata": {},
     "output_type": "execute_result"
    },
    {
     "data": {
      "image/png": "[encoded data removed]",
      "text/plain": [
       "<Figure size 432x288 with 1 Axes>"
      ]
     },
     "metadata": {},
     "output_type": "display_data"
    }
   ],
   "source": [
    "sns.countplot(x='diagnosis', data=data)"
   ]
  },
  {
   "cell_type": "markdown",
   "metadata": {},
   "source": [
    "With about 350 benign and a bit over 200 malignant we don't have that much data, but at least the counts of each category are not vastly different."
   ]
  },
  {
   "cell_type": "markdown",
   "metadata": {},
   "source": [
    "# Making Data Workable"
   ]
  },
  {
   "cell_type": "code",
   "execution_count": 27,
   "metadata": {},
   "outputs": [],
   "source": [
    "x = data.iloc[:, 2:].values\n",
    "y = data.iloc[:, 1].values\n",
    "\n",
    "# We'll need to turn the \"M\" and \"B\" into categories our machine can understand.\n",
    "\n",
    "from sklearn.preprocessing import LabelEncoder\n",
    "\n",
    "labelEncoder = LabelEncoder()\n",
    "y = labelEncoder.fit_transform(y)\n",
    "\n",
    "# Create Train and Test data\n",
    "from sklearn.model_selection import train_test_split\n",
    "xTrain, xTest, yTrain, yTest = train_test_split(x,y)\n",
    "\n",
    "# Feature Scaling (More can be read here as to why this is important:)\n",
    "# https://www.wikiwand.com/en/Feature_scaling\n",
    "\n",
    "from sklearn.preprocessing import StandardScaler\n",
    "scaler = StandardScaler()\n",
    "xTrain = scaler.fit_transform(xTrain)\n",
    "xTest = scaler.transform(xTest)"
   ]
  },
  {
   "cell_type": "markdown",
   "metadata": {},
   "source": [
    "# Building/Training Model with Keras"
   ]
  },
  {
   "cell_type": "code",
   "execution_count": 41,
   "metadata": {},
   "outputs": [],
   "source": [
    "import keras\n",
    "from keras.models import Sequential\n",
    "from keras.layers import Dense, Dropout\n",
    "\n",
    "# Check the docs for the Sequential model here https://keras.io/models/sequential/\n",
    "\n",
    "model = Sequential()\n",
    "\n",
    "# Input Layer\n",
    "model.add(Dense(16, activation='relu'))\n",
    "\n",
    "# Dropout to prevent overfitting\n",
    "model.add(Dropout(.25))\n",
    "\n",
    "# Repeat\n",
    "model.add(Dense(16, activation='relu'))\n",
    "model.add(Dropout(.25))\n",
    "\n",
    "# Output\n",
    "# Sigmoid function is used here as the activation since this is classification.\n",
    "# tanh could be used if this was a regression problem\n",
    "model.add(Dense(output_dim=1, activation='sigmoid'))\n",
    "\n",
    "# Compile Model\n",
    "# Our loss used is cross entropy which can be read on here:\n",
    "# http://ml-cheatsheet.readthedocs.io/en/latest/loss_functions.html\n",
    "# To sum it up, smaller values for loss are better for accuracy.\n",
    "model.compile(optimizer='adam', loss='binary_crossentropy', metrics=['accuracy'])\n"
   ]
  },
  {
   "cell_type": "markdown",
   "metadata": {},
   "source": [
    "Training Time!"
   ]
  },
  {
   "cell_type": "code",
   "execution_count": 42,
   "metadata": {},
   "outputs": [
    {
     "name": "stdout",
     "output_type": "stream",
     "text": [
      "Epoch 1/20\n",
      "500/500 [==============================] - 1s 3ms/step - loss: 0.1139 - acc: 0.9654\n",
      "Epoch 2/20\n",
      "500/500 [==============================] - 1s 2ms/step - loss: 0.0154 - acc: 0.9952\n",
      "Epoch 3/20\n",
      "500/500 [==============================] - 1s 2ms/step - loss: 0.0058 - acc: 0.9985\n",
      "Epoch 4/20\n",
      "500/500 [==============================] - 1s 2ms/step - loss: 0.0038 - acc: 0.9988\n",
      "Epoch 5/20\n",
      "500/500 [==============================] - 1s 2ms/step - loss: 0.0026 - acc: 0.9993\n",
      "Epoch 6/20\n",
      "500/500 [==============================] - 1s 2ms/step - loss: 0.0018 - acc: 0.9995\n",
      "Epoch 7/20\n",
      "500/500 [==============================] - 1s 2ms/step - loss: 0.0014 - acc: 0.9996\n",
      "Epoch 8/20\n",
      "500/500 [==============================] - 1s 2ms/step - loss: 0.0014 - acc: 0.9995\n",
      "Epoch 9/20\n",
      "500/500 [==============================] - 1s 2ms/step - loss: 0.0011 - acc: 0.9997\n",
      "Epoch 10/20\n",
      "500/500 [==============================] - 1s 2ms/step - loss: 7.8979e-04 - acc: 0.9997\n",
      "Epoch 11/20\n",
      "500/500 [==============================] - 1s 2ms/step - loss: 8.1131e-04 - acc: 0.9997\n",
      "Epoch 12/20\n",
      "500/500 [==============================] - 1s 2ms/step - loss: 6.7794e-04 - acc: 0.9997\n",
      "Epoch 13/20\n",
      "500/500 [==============================] - 1s 2ms/step - loss: 6.0806e-04 - acc: 0.9998\n",
      "Epoch 14/20\n",
      "500/500 [==============================] - 1s 2ms/step - loss: 5.0455e-04 - acc: 0.9998\n",
      "Epoch 15/20\n",
      "500/500 [==============================] - 1s 2ms/step - loss: 5.4119e-04 - acc: 0.9998\n",
      "Epoch 16/20\n",
      "500/500 [==============================] - 1s 2ms/step - loss: 4.5716e-04 - acc: 0.9998\n",
      "Epoch 17/20\n",
      "500/500 [==============================] - 1s 2ms/step - loss: 4.8581e-04 - acc: 0.9997\n",
      "Epoch 18/20\n",
      "500/500 [==============================] - 1s 2ms/step - loss: 3.5500e-04 - acc: 0.9998\n",
      "Epoch 19/20\n",
      "500/500 [==============================] - 1s 2ms/step - loss: 4.2352e-04 - acc: 0.9998\n",
      "Epoch 20/20\n",
      "500/500 [==============================] - 1s 2ms/step - loss: 4.3259e-04 - acc: 0.9998\n"
     ]
    },
    {
     "data": {
      "text/plain": [
       "<keras.callbacks.History at 0x201280962b0>"
      ]
     },
     "execution_count": 42,
     "metadata": {},
     "output_type": "execute_result"
    }
   ],
   "source": [
    "model.fit(xTrain, yTrain, steps_per_epoch=500, epochs=20)"
   ]
  },
  {
   "cell_type": "markdown",
   "metadata": {},
   "source": [
    "**Wow!** That is incredibly accurate. Hopefully this is not a sign of overtraining our data. We'll find out by testing the model now."
   ]
  },
  {
   "cell_type": "markdown",
   "metadata": {},
   "source": [
    "# Testing Model"
   ]
  },
  {
   "cell_type": "code",
   "execution_count": 56,
   "metadata": {},
   "outputs": [
    {
     "name": "stdout",
     "output_type": "stream",
     "text": [
      "Model Accuracy: 96.5035%\n"
     ]
    }
   ],
   "source": [
    "predictions = model.predict(xTest)\n",
    "\n",
    "# Testing accuracy\n",
    "from sklearn.metrics import accuracy_score\n",
    "accuracy = accuracy_score(yTest, predictions.round())\n",
    "\n",
    "print(\"Neural Network Accuracy: {}%\".format((accuracy * 100).round(4)))\n"
   ]
  },
  {
   "cell_type": "markdown",
   "metadata": {},
   "source": [
    "# Compare to XGBClassifier"
   ]
  },
  {
   "cell_type": "code",
   "execution_count": 62,
   "metadata": {},
   "outputs": [
    {
     "name": "stdout",
     "output_type": "stream",
     "text": [
      "XGBClassifier Accuracy: 98.6014%\n"
     ]
    }
   ],
   "source": [
    "# I'll create a model quickly without too much explanation.\n",
    "\n",
    "from xgboost import XGBClassifier\n",
    "\n",
    "x = data.iloc[:, 2:].values\n",
    "y = data.iloc[:, 1].values\n",
    "\n",
    "xTrain, xTest, yTrain, yTest = train_test_split(x,y)\n",
    "\n",
    "model = XGBClassifier()\n",
    "\n",
    "model.fit(xTrain, yTrain)\n",
    "\n",
    "predictions = model.predict(xTest)\n",
    "\n",
    "accuracy = accuracy_score(yTest, predictions)\n",
    "\n",
    "print(\"XGBClassifier Accuracy: {}%\".format((accuracy * 100).round(4)))\n"
   ]
  },
  {
   "cell_type": "markdown",
   "metadata": {},
   "source": [
    "# Conclusion/Final Thoughts"
   ]
  },
  {
   "cell_type": "markdown",
   "metadata": {},
   "source": [
    "This notebook was made in under 5 hours and was more of a way for me to learn neural networks on tabular data. It's not meant as a way to create state of the art predictions with 99.99% accuracy. I did not tinker the Neural Network much and I didn't give any extra parameters to the XGBClassifier. \n",
    "\n",
    "I'm sure with more time and more data you could easily get the NN model to have 99% accuracy."
   ]
  }
 ],
 "metadata": {
  "kernelspec": {
   "display_name": "Python 3",
   "language": "python",
   "name": "python3"
  },
  "language_info": {
   "codemirror_mode": {
    "name": "ipython",
    "version": 3
   },
   "file_extension": ".py",
   "mimetype": "text/x-python",
   "name": "python",
   "nbconvert_exporter": "python",
   "pygments_lexer": "ipython3",
   "version": "3.6.5"
  }
 },
 "nbformat": 4,
 "nbformat_minor": 2
}
